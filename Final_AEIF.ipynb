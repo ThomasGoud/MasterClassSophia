{
  "nbformat": 4,
  "nbformat_minor": 5,
  "metadata": {
    "kernelspec": {
      "display_name": "Python 3",
      "language": "python",
      "name": "python3"
    },
    "language_info": {
      "codemirror_mode": {
        "name": "ipython",
        "version": 3
      },
      "file_extension": ".py",
      "mimetype": "text/x-python",
      "name": "python",
      "nbconvert_exporter": "python",
      "pygments_lexer": "ipython3",
      "version": "3.6.9"
    },
    "colab": {
      "name": "Final_AEIF.ipynb",
      "provenance": [],
      "include_colab_link": true
    }
  },
  "cells": [
    {
      "cell_type": "markdown",
      "metadata": {
        "id": "view-in-github",
        "colab_type": "text"
      },
      "source": [
        "<a href=\"https://colab.research.google.com/github/ThomasGoud/MasterClassSophia/blob/main/Final_AEIF.ipynb\" target=\"_parent\"><img src=\"https://colab.research.google.com/assets/colab-badge.svg\" alt=\"Open In Colab\"/></a>"
      ]
    },
    {
      "cell_type": "markdown",
      "metadata": {
        "id": "c4c4b148"
      },
      "source": [
        "# Auto-Encoder feature extractor + Isolation Forest detector"
      ],
      "id": "c4c4b148"
    },
    {
      "cell_type": "markdown",
      "metadata": {
        "id": "858ee21f"
      },
      "source": [
        "## Library Importation"
      ],
      "id": "858ee21f"
    },
    {
      "cell_type": "code",
      "metadata": {
        "id": "3c3bfd62"
      },
      "source": [
        "import pandas as pd\n",
        "import numpy as np \n",
        "import matplotlib.pyplot as plt"
      ],
      "id": "3c3bfd62",
      "execution_count": null,
      "outputs": []
    },
    {
      "cell_type": "markdown",
      "metadata": {
        "id": "ba27d801"
      },
      "source": [
        "## Data Downloading"
      ],
      "id": "ba27d801"
    },
    {
      "cell_type": "markdown",
      "metadata": {
        "id": "6f2f70aa"
      },
      "source": [
        "In this section we download the test / train data"
      ],
      "id": "6f2f70aa"
    },
    {
      "cell_type": "code",
      "metadata": {
        "id": "bdbd868a"
      },
      "source": [
        "# Definition of load_data function\n",
        "def load_data(name_file):\n",
        "    data = pd.read_csv(name_file)\n",
        "    data['time'] = pd.to_datetime(data['time']) #converting the time column to DateTime format\n",
        "    data = data.set_index(['time']) #setting the DateTime Index\n",
        "    return data\n",
        "\n",
        "# Loading training data\n",
        "train_data = load_data('train_data.csv')\n",
        "\n",
        "# Loading test data + centering on anomaly\n",
        "test_data = load_data('test_data.csv')\n",
        "test_data = test_data.iloc[10000:17000]"
      ],
      "id": "bdbd868a",
      "execution_count": null,
      "outputs": []
    },
    {
      "cell_type": "markdown",
      "metadata": {
        "id": "b4f909e5"
      },
      "source": [
        "## Label Creation"
      ],
      "id": "b4f909e5"
    },
    {
      "cell_type": "markdown",
      "metadata": {
        "id": "f1d98f43"
      },
      "source": [
        "We define the label, '1' when an anomaly is detected"
      ],
      "id": "f1d98f43"
    },
    {
      "cell_type": "code",
      "metadata": {
        "id": "b0784b9b"
      },
      "source": [
        "labels = pd.DataFrame(index=test_data.index.tz_localize(None),data=np.zeros(test_data.size))\n",
        "labels[((labels.index>pd.Timestamp('2021-06-10 10:20:00')) & (labels.index<pd.Timestamp('2021-06-10 10:39:00')))]=1\n",
        "labels[((labels.index>pd.Timestamp('2021-06-10 11:46:00')) & (labels.index<pd.Timestamp('2021-06-10 12:01:00')))]=1"
      ],
      "id": "b0784b9b",
      "execution_count": null,
      "outputs": []
    },
    {
      "cell_type": "code",
      "metadata": {
        "id": "5b94db84",
        "outputId": "772fa8de-2950-418a-9962-6020dda0a58c"
      },
      "source": [
        "# Display test data\n",
        "%matplotlib inline\n",
        "fig, axs = plt.subplots(figsize=(9,3))\n",
        "fig.tight_layout(pad=3.0)            \n",
        "axs.plot(labels, label=\"Anmalies\")\n",
        "axs.plot(test_data, label=\"test_data\" )\n",
        "axs.set_title('test data')\n",
        "fig.legend()\n",
        "\n",
        "# Display train data\n",
        "fig, axs = plt.subplots(figsize=(9,3))\n",
        "fig.tight_layout(pad=3.0)            \n",
        "axs.plot(train_data, label=\"test_data\" )\n",
        "axs.set_title('train data')\n",
        "fig.legend()"
      ],
      "id": "5b94db84",
      "execution_count": null,
      "outputs": [
        {
          "data": {
            "text/plain": [
              "<matplotlib.legend.Legend at 0x7f40e9d81b70>"
            ]
          },
          "execution_count": 4,
          "metadata": {},
          "output_type": "execute_result"
        },
        {
          "data": {
            "image/png": "[encoded data removed]",
            "text/plain": [
              "<Figure size 648x216 with 1 Axes>"
            ]
          },
          "metadata": {
            "needs_background": "light"
          },
          "output_type": "display_data"
        },
        {
          "data": {
            "image/png": "[encoded data removed]",
            "text/plain": [
              "<Figure size 648x216 with 1 Axes>"
            ]
          },
          "metadata": {
            "needs_background": "light"
          },
          "output_type": "display_data"
        }
      ]
    },
    {
      "cell_type": "markdown",
      "metadata": {
        "id": "204a1bc9"
      },
      "source": [
        "## Model parameter definition"
      ],
      "id": "204a1bc9"
    },
    {
      "cell_type": "code",
      "metadata": {
        "id": "f364cee7"
      },
      "source": [
        "# Number of estimator for Isolation Forest\n",
        "n_estimators = 400\n",
        "# Auto Encoder Input/Output dimensions\n",
        "window_size = 800\n",
        "encoding_dim = 256\n",
        "\n",
        "# Epoch for AE training\n",
        "epochs = 12\n",
        "# Number of window before weight update\n",
        "batch_size = 32\n",
        "# Dimension of input variable (1 value for 1 timestep )\n",
        "nb_features_input = 1"
      ],
      "id": "f364cee7",
      "execution_count": null,
      "outputs": []
    },
    {
      "cell_type": "markdown",
      "metadata": {
        "id": "ed3583b9"
      },
      "source": [
        "## Model Creation"
      ],
      "id": "ed3583b9"
    },
    {
      "cell_type": "markdown",
      "metadata": {
        "id": "beeed611"
      },
      "source": [
        "### Auto-encoder"
      ],
      "id": "beeed611"
    },
    {
      "cell_type": "code",
      "metadata": {
        "id": "accf07dc"
      },
      "source": [
        "from tensorflow.keras.layers import Input, Dense\n",
        "from tensorflow.keras.optimizers import Adam, RMSprop\n",
        "from tensorflow.keras.models import Model"
      ],
      "id": "accf07dc",
      "execution_count": null,
      "outputs": []
    },
    {
      "cell_type": "code",
      "metadata": {
        "id": "8952dffd"
      },
      "source": [
        "input_vec = Input(shape=(window_size * nb_features_input,))\n",
        "encoded = Dense(encoding_dim, name=\"latent_space\", activation='relu')(input_vec)\n",
        "decoded = Dense(window_size * nb_features_input)(encoded)\n",
        "autoencoder = Model(input_vec, decoded)\n",
        "encoder = Model(input_vec, encoded)\n",
        "\n",
        "autoencoder.compile(optimizer=Adam(lr=1e-3), loss='mse')\n",
        "encoder.compile(optimizer='adam', loss='mse')"
      ],
      "id": "8952dffd",
      "execution_count": null,
      "outputs": []
    },
    {
      "cell_type": "markdown",
      "metadata": {
        "id": "362d5dfa"
      },
      "source": [
        "#### Solution"
      ],
      "id": "362d5dfa"
    },
    {
      "cell_type": "code",
      "metadata": {
        "id": "9ff4d9cb"
      },
      "source": [
        "input_vec = Input(shape=(window_size * nb_features_input,))\n",
        "encoded = Dense(encoding_dim, name=\"latent_space\", activation='relu')(input_vec)\n",
        "decoded = Dense(window_size * nb_features_input)(encoded)\n",
        "autoencoder = Model(input_vec, decoded)\n",
        "encoder = Model(input_vec, encoded)\n",
        "\n",
        "autoencoder.compile(optimizer=Adam(lr=1e-3), loss='mse')\n",
        "encoder.compile(optimizer='adam', loss='mse')"
      ],
      "id": "9ff4d9cb",
      "execution_count": null,
      "outputs": []
    },
    {
      "cell_type": "markdown",
      "metadata": {
        "id": "5e12a383"
      },
      "source": [
        "### Isolation Forest"
      ],
      "id": "5e12a383"
    },
    {
      "cell_type": "code",
      "metadata": {
        "id": "9d9abd94"
      },
      "source": [
        "from sklearn.ensemble import IsolationForest"
      ],
      "id": "9d9abd94",
      "execution_count": null,
      "outputs": []
    },
    {
      "cell_type": "code",
      "metadata": {
        "id": "4fa3a9b9"
      },
      "source": [
        " # Isolation Forest Definition\n",
        "detector = IsolationForest(n_estimators=n_estimators,\n",
        "                       max_samples='auto', contamination=0.1, n_jobs=1,\n",
        "                       verbose=0)"
      ],
      "id": "4fa3a9b9",
      "execution_count": null,
      "outputs": []
    },
    {
      "cell_type": "markdown",
      "metadata": {
        "id": "8b0ee4f9"
      },
      "source": [
        "#### Solution"
      ],
      "id": "8b0ee4f9"
    },
    {
      "cell_type": "code",
      "metadata": {
        "id": "aab2a56a"
      },
      "source": [
        " # Isolation Forest Definition\n",
        "detector = IsolationForest(n_estimators=n_estimators,\n",
        "                       max_samples='auto', contamination=0.1, n_jobs=1,\n",
        "                       verbose=0)"
      ],
      "id": "aab2a56a",
      "execution_count": null,
      "outputs": []
    },
    {
      "cell_type": "markdown",
      "metadata": {
        "id": "a670b788"
      },
      "source": [
        "## Model training "
      ],
      "id": "a670b788"
    },
    {
      "cell_type": "markdown",
      "metadata": {
        "id": "9e8d34bb"
      },
      "source": [
        "### Data preparation\n",
        "\n",
        "To train the model, we transform the data with a sliding window "
      ],
      "id": "9e8d34bb"
    },
    {
      "cell_type": "code",
      "metadata": {
        "id": "8d5ab6b8"
      },
      "source": [
        "def get_dataset_windows(df, lookback=30, lookforward=1):\n",
        "    windows_dataset = []\n",
        "\n",
        "    # iterate on the dataset to create the windows\n",
        "    for i in range(0, len(df) - lookback - lookforward):\n",
        "        tmp = df[i:i + lookback]\n",
        "        tmp.fillna(method='pad') # remplacement des valeur vide par la valeur precedente\n",
        "        windows_dataset.append(tmp)\n",
        "\n",
        "    windows_dataset = np.stack(windows_dataset) # regroupement des fenetres\n",
        "    windows_dataset -= np.expand_dims(windows_dataset.mean(axis=1), axis=1)\n",
        "    return windows_dataset"
      ],
      "id": "8d5ab6b8",
      "execution_count": null,
      "outputs": []
    },
    {
      "cell_type": "code",
      "metadata": {
        "id": "0f3530a2"
      },
      "source": [
        "windows_dataset = get_dataset_windows(train_data,lookback=window_size).squeeze()"
      ],
      "id": "0f3530a2",
      "execution_count": null,
      "outputs": []
    },
    {
      "cell_type": "markdown",
      "metadata": {
        "id": "b3230462"
      },
      "source": [
        "We use sklearn train_test_split function into train/validation group: \n",
        "- x_train : training data for the model\n",
        "- x_val: validation data for the model "
      ],
      "id": "b3230462"
    },
    {
      "cell_type": "code",
      "metadata": {
        "id": "c06808fc"
      },
      "source": [
        "from sklearn.model_selection import train_test_split\n",
        "x_train, x_val = train_test_split(windows_dataset)"
      ],
      "id": "c06808fc",
      "execution_count": null,
      "outputs": []
    },
    {
      "cell_type": "markdown",
      "metadata": {
        "id": "a5e9faf2"
      },
      "source": [
        "### Auto-Encoder model training\n",
        "We train the AE by giving the same input and tell him to output the same values as input."
      ],
      "id": "a5e9faf2"
    },
    {
      "cell_type": "code",
      "metadata": {
        "id": "da92cf38",
        "outputId": "33c5d695-dfcf-4913-e312-2f7ff1a04d0b"
      },
      "source": [
        "autoencoder.fit(x_train, x_train,\n",
        "                            epochs=epochs,\n",
        "                            batch_size=batch_size,\n",
        "                            shuffle=True,\n",
        "                            validation_data=(x_val, x_val), verbose=1)"
      ],
      "id": "da92cf38",
      "execution_count": null,
      "outputs": [
        {
          "name": "stdout",
          "output_type": "stream",
          "text": [
            "Epoch 1/12\n",
            "572/572 [==============================] - 2s 4ms/step - loss: 0.0681 - val_loss: 9.5673e-04\n",
            "Epoch 2/12\n",
            "572/572 [==============================] - 2s 3ms/step - loss: 9.4469e-04 - val_loss: 4.1990e-04\n",
            "Epoch 3/12\n",
            "572/572 [==============================] - 2s 3ms/step - loss: 0.0012 - val_loss: 0.0012\n",
            "Epoch 4/12\n",
            "560/572 [============================>.] - ETA: 0s - loss: 7.1816e-04"
          ]
        }
      ]
    },
    {
      "cell_type": "markdown",
      "metadata": {
        "id": "d825bab8"
      },
      "source": [
        "#### Solution"
      ],
      "id": "d825bab8"
    },
    {
      "cell_type": "code",
      "metadata": {
        "id": "fcce8eee",
        "outputId": "4ee779cd-1f63-42ea-f91f-06bfec7a0ff9"
      },
      "source": [
        "autoencoder.fit(x_train, x_train,\n",
        "                            epochs=epochs,\n",
        "                            batch_size=batch_size,\n",
        "                            shuffle=True,\n",
        "                            validation_data=(x_val, x_val), verbose=1)"
      ],
      "id": "fcce8eee",
      "execution_count": null,
      "outputs": [
        {
          "name": "stdout",
          "output_type": "stream",
          "text": [
            "Epoch 1/12\n",
            "572/572 [==============================] - 2s 4ms/step - loss: 0.0681 - val_loss: 9.5673e-04\n",
            "Epoch 2/12\n",
            "572/572 [==============================] - 2s 3ms/step - loss: 9.4469e-04 - val_loss: 4.1990e-04\n",
            "Epoch 3/12\n",
            "572/572 [==============================] - 2s 3ms/step - loss: 0.0012 - val_loss: 0.0012\n",
            "Epoch 4/12\n",
            "572/572 [==============================] - 2s 4ms/step - loss: 7.1768e-04 - val_loss: 2.7167e-04\n",
            "Epoch 5/12\n",
            "572/572 [==============================] - 2s 3ms/step - loss: 3.0031e-04 - val_loss: 5.9560e-04\n",
            "Epoch 6/12\n",
            "572/572 [==============================] - 2s 4ms/step - loss: 5.0761e-04 - val_loss: 3.1843e-04\n",
            "Epoch 7/12\n",
            "572/572 [==============================] - 2s 3ms/step - loss: 6.8666e-04 - val_loss: 1.0660e-04\n",
            "Epoch 8/12\n",
            "572/572 [==============================] - 2s 3ms/step - loss: 3.1736e-04 - val_loss: 1.0070e-04\n",
            "Epoch 9/12\n",
            "572/572 [==============================] - 2s 3ms/step - loss: 2.1654e-04 - val_loss: 1.9879e-04\n",
            "Epoch 10/12\n",
            "572/572 [==============================] - 2s 4ms/step - loss: 0.0012 - val_loss: 1.3142e-04\n",
            "Epoch 11/12\n",
            "572/572 [==============================] - 2s 4ms/step - loss: 2.5934e-04 - val_loss: 2.6017e-04\n",
            "Epoch 12/12\n",
            "572/572 [==============================] - 2s 3ms/step - loss: 1.9374e-04 - val_loss: 0.0011\n"
          ]
        },
        {
          "data": {
            "text/plain": [
              "<tensorflow.python.keras.callbacks.History at 0x7f4041929828>"
            ]
          },
          "execution_count": 23,
          "metadata": {},
          "output_type": "execute_result"
        }
      ]
    },
    {
      "cell_type": "markdown",
      "metadata": {
        "id": "cdcc8339"
      },
      "source": [
        "### Isolation Forest detector training"
      ],
      "id": "cdcc8339"
    },
    {
      "cell_type": "code",
      "metadata": {
        "id": "184f6cd3",
        "outputId": "34b7f6e4-9ee0-4673-8b77-91eac553772a"
      },
      "source": [
        "# We use the output of the encoder to train de Isolation Forest\n",
        "features = encoder.predict(windows_dataset)\n",
        "detector.fit(features)"
      ],
      "id": "184f6cd3",
      "execution_count": null,
      "outputs": [
        {
          "data": {
            "text/plain": [
              "IsolationForest(contamination=0.1, n_estimators=400, n_jobs=1)"
            ]
          },
          "execution_count": 25,
          "metadata": {},
          "output_type": "execute_result"
        }
      ]
    },
    {
      "cell_type": "markdown",
      "metadata": {
        "id": "31ef8cd0"
      },
      "source": [
        "#### Solution"
      ],
      "id": "31ef8cd0"
    },
    {
      "cell_type": "code",
      "metadata": {
        "id": "939e10ed",
        "outputId": "fa31e4ec-4385-4266-9993-58a7c14983ff"
      },
      "source": [
        "# We use the output of the encoder to train de Isolation Forest\n",
        "features = encoder.predict(windows_dataset)\n",
        "detector.fit(features)"
      ],
      "id": "939e10ed",
      "execution_count": null,
      "outputs": [
        {
          "data": {
            "text/plain": [
              "IsolationForest(contamination=0.1, n_estimators=400, n_jobs=1)"
            ]
          },
          "execution_count": 24,
          "metadata": {},
          "output_type": "execute_result"
        }
      ]
    },
    {
      "cell_type": "markdown",
      "metadata": {
        "id": "44afa52b"
      },
      "source": [
        "## Prediction + Anonomaly Score computation on test data"
      ],
      "id": "44afa52b"
    },
    {
      "cell_type": "markdown",
      "metadata": {
        "id": "7c0ad515"
      },
      "source": [
        "### Data preparation"
      ],
      "id": "7c0ad515"
    },
    {
      "cell_type": "code",
      "metadata": {
        "id": "90264fa1",
        "outputId": "62a8400f-9d9c-4b09-9322-3fda6dad964d"
      },
      "source": [
        "# Test data sliding window transformation\n",
        "data_test = get_dataset_windows(test_data,lookback=window_size).squeeze()\n",
        "data_test.shape"
      ],
      "id": "90264fa1",
      "execution_count": null,
      "outputs": [
        {
          "data": {
            "text/plain": [
              "(6199, 800)"
            ]
          },
          "execution_count": 27,
          "metadata": {},
          "output_type": "execute_result"
        }
      ]
    },
    {
      "cell_type": "markdown",
      "metadata": {
        "id": "9df49238"
      },
      "source": [
        "### Predicition\n",
        "- We extract the features of data_test with the Encoder \n",
        "- We feed the IF with the features"
      ],
      "id": "9df49238"
    },
    {
      "cell_type": "code",
      "metadata": {
        "id": "7352939e"
      },
      "source": [
        "# We use the encoder to extract features\n",
        "features_test = encoder.predict(data_test)\n",
        "# Nan output transformation\n",
        "features_test = np.nan_to_num(features_test)\n",
        "# We input the features into the IF\n",
        "prediction_test = detector.predict(features_test)"
      ],
      "id": "7352939e",
      "execution_count": null,
      "outputs": []
    },
    {
      "cell_type": "markdown",
      "metadata": {
        "id": "71584666"
      },
      "source": [
        "#### Solution"
      ],
      "id": "71584666"
    },
    {
      "cell_type": "code",
      "metadata": {
        "id": "9b75f6a8"
      },
      "source": [
        "# We use the encoder to extract features\n",
        "features_test = encoder.predict(data_test)\n",
        "# Nan output transformation\n",
        "features_test = np.nan_to_num(features_test)\n",
        "# We input the features into the IF\n",
        "prediction_test = detector.predict(features_test)"
      ],
      "id": "9b75f6a8",
      "execution_count": null,
      "outputs": []
    },
    {
      "cell_type": "markdown",
      "metadata": {
        "id": "cc2f0bbe"
      },
      "source": [
        "### Anomaly score computation\n",
        "The anomaly score is computed with decision_function which average the depth of each three"
      ],
      "id": "cc2f0bbe"
    },
    {
      "cell_type": "code",
      "metadata": {
        "id": "cfdcf363"
      },
      "source": [
        "# Score computation\n",
        "anomaly_scores_test =  detector.decision_function(features_test) \n",
        "# Anomaly score rescaling (optional)\n",
        "anomaly_scores_test = 1-((anomaly_scores_test+abs(anomaly_scores_test.min())) /\n",
        "                         (anomaly_scores_test.max()- anomaly_scores_test.min()))"
      ],
      "id": "cfdcf363",
      "execution_count": null,
      "outputs": []
    },
    {
      "cell_type": "markdown",
      "metadata": {
        "id": "d234df6e"
      },
      "source": [
        "## Anomaly detection\n",
        "We will use the anomaly score computed previously to extract 3% of data outliers"
      ],
      "id": "d234df6e"
    },
    {
      "cell_type": "code",
      "metadata": {
        "id": "4d94bd38"
      },
      "source": [
        "# To extract the 3% of outliers, we define a threshold at 97%\n",
        "th=0.97\n",
        "pourcentage = th * 100\n",
        "threshold = np.percentile(anomaly_scores_test, pourcentage)\n",
        "binary_predict = anomaly_scores_test > threshold"
      ],
      "id": "4d94bd38",
      "execution_count": null,
      "outputs": []
    },
    {
      "cell_type": "code",
      "metadata": {
        "id": "bce4f502",
        "outputId": "637f3f26-f373-424c-f4b3-4198e92f43fd"
      },
      "source": [
        "# Plot\n",
        "%matplotlib inline\n",
        "\n",
        "fig, axs = plt.subplots(2,figsize=(10, 8), sharex=True)\n",
        "fig.suptitle('Test data anomaly detection')\n",
        "fig.tight_layout(pad=3.0)          \n",
        "axs[0].plot(test_data.values,label=\"Test data\")\n",
        "axs[0].plot(anomaly_scores_test, label=\"Anomaly score\")\n",
        "axs[0].legend()\n",
        "axs[1].plot(labels.values, label=\"Anomaly Ground Truth\")\n",
        "axs[1].plot(binary_predict, label=\"Predicted anomaly\")\n",
        "axs[1].legend()"
      ],
      "id": "bce4f502",
      "execution_count": null,
      "outputs": [
        {
          "data": {
            "text/plain": [
              "<matplotlib.legend.Legend at 0x7f40422cf400>"
            ]
          },
          "execution_count": 39,
          "metadata": {},
          "output_type": "execute_result"
        },
        {
          "data": {
            "image/png": "[encoded data removed]",
            "text/plain": [
              "<Figure size 720x576 with 2 Axes>"
            ]
          },
          "metadata": {
            "needs_background": "light"
          },
          "output_type": "display_data"
        }
      ]
    },
    {
      "cell_type": "markdown",
      "metadata": {
        "id": "0a82117b"
      },
      "source": [
        "## Performance of the model"
      ],
      "id": "0a82117b"
    },
    {
      "cell_type": "markdown",
      "metadata": {
        "id": "dbbc8039"
      },
      "source": [
        "### Custom Confusion Matrix definition\n",
        "We use a custom function to generate the confusion matrix: we accept predicted anomalies if in the neighboorhoud of the window_size there is a labeled anomaly:"
      ],
      "id": "dbbc8039"
    },
    {
      "cell_type": "code",
      "metadata": {
        "id": "0b252be2"
      },
      "source": [
        "def confusion_matrix_dataset( true, binary_predict):\n",
        "    binary_predict = binary_predict.copy()\n",
        "    tp = 0\n",
        "    fn = 0\n",
        "    fp = 0\n",
        "    n_anomaly = 0\n",
        "    # measure true positive and false negative\n",
        "    # for every true anomaly : if detected add 1 true positive, if not detected add 1 false negative\n",
        "    consecutive = np.split(np.where(true)[0], np.where(np.diff(np.where(true)[0]) > 1)[0] + 1)\n",
        "    for anom in consecutive:\n",
        "        if len(anom) < 0:\n",
        "            break\n",
        "        n_anomaly += 1\n",
        "        detected = False\n",
        "        mini = anom[0]\n",
        "        maxi = anom[-1]\n",
        "        for i in range(mini, maxi):\n",
        "            if binary_predict[i] == 1:\n",
        "                tp += 1\n",
        "                detected = True\n",
        "                binary_predict[mini:maxi] = 0\n",
        "                break\n",
        "        if not detected:\n",
        "            fn += 1\n",
        "    # measure false positive\n",
        "    # iterate on binary predict while not all detections have been counted\n",
        "    # for every false anomaly detected add 1 false positive\n",
        "    for i in range(len(binary_predict)):\n",
        "        if binary_predict[i] == 1:\n",
        "            fp += 1\n",
        "            # in order to avoid counting the same detection multiple times, we set the next windows to zero\n",
        "            binary_predict[i: i + window_size] = 0\n",
        "\n",
        "    # count number of normal windows\n",
        "    n_normal = 0\n",
        "    consecutive = np.split(np.where(1 - true)[0], np.where(np.diff(np.where(1 - true)[0]) > 1)[0] + 1)\n",
        "    for norm in consecutive:\n",
        "        n_normal += np.ceil(len(norm) / window_size)\n",
        "    # true negative\n",
        "    tn = n_normal - fp\n",
        "    tpr = tp / n_anomaly\n",
        "    fnr = fn / n_anomaly\n",
        "    fpr = fp / n_normal\n",
        "    tnr = tn / n_normal\n",
        "    return tpr, fnr, fpr, tnr"
      ],
      "id": "0b252be2",
      "execution_count": null,
      "outputs": []
    },
    {
      "cell_type": "code",
      "metadata": {
        "id": "3a7ee1d3",
        "outputId": "92ef6c6a-0ab7-4709-9a51-32d013b7e864"
      },
      "source": [
        "import sklearn\n",
        "# roc curve and auc\n",
        "tp, fn, fp, tn = confusion_matrix_dataset(labels, binary_predict)\n",
        "print(pd.DataFrame([[tp, fn], [fp,tn]],columns=[\"Detected an anomaly\", \"Detected normal\"], index=[\"Was an anomaly\",\"Was normal\"]))"
      ],
      "id": "3a7ee1d3",
      "execution_count": null,
      "outputs": [
        {
          "name": "stdout",
          "output_type": "stream",
          "text": [
            "                Detected an anomaly  Detected normal\n",
            "Was an anomaly                  0.5              0.5\n",
            "Was normal                      0.1              0.9\n"
          ]
        }
      ]
    }
  ]
}